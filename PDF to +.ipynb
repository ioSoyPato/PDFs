{
 "cells": [
  {
   "cell_type": "raw",
   "id": "4e54ea13",
   "metadata": {},
   "source": [
    "-- Run this on your cmd --\n",
    "\n",
    "pip install pymupdf\n",
    "pip install python-docx"
   ]
  },
  {
   "cell_type": "markdown",
   "id": "8d5d407a",
   "metadata": {},
   "source": [
    "### PDF to WORD"
   ]
  },
  {
   "cell_type": "code",
   "execution_count": 1,
   "id": "68b4613e",
   "metadata": {},
   "outputs": [],
   "source": [
    "import fitz  # PyMuPDF\n",
    "from docx import Document\n",
    "\n",
    "def pdf_to_text(pdf_path):\n",
    "    text = \"\"\n",
    "    pdf_document = fitz.open(pdf_path)\n",
    "    \n",
    "    for page_number in range(pdf_document.page_count):\n",
    "        page = pdf_document[page_number]\n",
    "        text += page.get_text()\n",
    "\n",
    "    pdf_document.close()\n",
    "    return text\n",
    "\n",
    "def text_to_word(text, output_path):\n",
    "    doc = Document()\n",
    "    doc.add_paragraph(text)\n",
    "\n",
    "    doc.save(output_path)\n",
    "\n",
    "if __name__ == \"__main__\":\n",
    "    pdf_path = \"pdf_file.pdf\"  # Replace with the path to your PDF file\n",
    "    output_path = \"result.docx\"  # Path to save the resulting Word file\n",
    "\n",
    "    text_content = pdf_to_text(pdf_path)\n",
    "    text_to_word(text_content, output_path)\n"
   ]
  },
  {
   "cell_type": "markdown",
   "id": "1fa474c1",
   "metadata": {},
   "source": [
    "### WORD to PDF"
   ]
  },
  {
   "cell_type": "code",
   "execution_count": 2,
   "id": "036a7f67",
   "metadata": {},
   "outputs": [],
   "source": [
    "from docx import Document\n",
    "from reportlab.lib.pagesizes import letter\n",
    "from reportlab.pdfgen import canvas\n",
    "\n",
    "def word_to_pdf(word_path, pdf_path):\n",
    "    doc = Document(word_path)\n",
    "    \n",
    "    pdf_canvas = canvas.Canvas(pdf_path, pagesize=letter)\n",
    "    \n",
    "    for paragraph in doc.paragraphs:\n",
    "        pdf_canvas.drawString(72, 800, paragraph.text)  # You may need to adjust the coordinates\n",
    "        \n",
    "    pdf_canvas.save()\n",
    "\n",
    "if __name__ == \"__main__\":\n",
    "    word_path = \"word_file.docx\"  # Replace with the path to your Word document\n",
    "    pdf_path = \"result.pdf\"  # Path to save the resulting PDF file\n",
    "\n",
    "    word_to_pdf(word_path, pdf_path)\n"
   ]
  }
 ],
 "metadata": {
  "kernelspec": {
   "display_name": "Python 3 (ipykernel)",
   "language": "python",
   "name": "python3"
  },
  "language_info": {
   "codemirror_mode": {
    "name": "ipython",
    "version": 3
   },
   "file_extension": ".py",
   "mimetype": "text/x-python",
   "name": "python",
   "nbconvert_exporter": "python",
   "pygments_lexer": "ipython3",
   "version": "3.10.9"
  }
 },
 "nbformat": 4,
 "nbformat_minor": 5
}
